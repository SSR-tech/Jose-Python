{
 "metadata": {
  "language_info": {
   "codemirror_mode": {
    "name": "ipython",
    "version": 3
   },
   "file_extension": ".py",
   "mimetype": "text/x-python",
   "name": "python",
   "nbconvert_exporter": "python",
   "pygments_lexer": "ipython3",
   "version": 3
  },
  "orig_nbformat": 2,
  "kernelspec": {
   "name": "python_defaultSpec_1596033912165",
   "display_name": "Python 3.7.3 64-bit"
  }
 },
 "nbformat": 4,
 "nbformat_minor": 2,
 "cells": [
  {
   "cell_type": "markdown",
   "metadata": {},
   "source": [
    "# While Loop\n",
    "     While some_boolean_condition:\n",
    "        do Something\n",
    "     else:\n",
    "        Do something different"
   ]
  },
  {
   "cell_type": "code",
   "execution_count": 3,
   "metadata": {
    "tags": []
   },
   "outputs": [
    {
     "output_type": "stream",
     "name": "stdout",
     "text": "The current value of x is 0\nThe current value of x is 1\nThe current value of x is 2\nThe current value of x is 3\nThe current value of x is 4\nOut of range\n"
    }
   ],
   "source": [
    "x = 0\n",
    "while x < 5:\n",
    "    print(f'The current value of x is {x}')\n",
    "    x += 1\n",
    "else:\n",
    "    print(\"Out of range\")\n"
   ]
  },
  {
   "cell_type": "markdown",
   "metadata": {},
   "source": [
    "# Break, Continue, Pass\n",
    "#### Break: Break out of the current closest enclosing loop.\n",
    "#### Continue: Goes to the top of the closest enclosing loop.\n",
    "#### Pass: Does nothing at all"
   ]
  },
  {
   "cell_type": "code",
   "execution_count": 4,
   "metadata": {
    "tags": []
   },
   "outputs": [
    {
     "output_type": "stream",
     "name": "stdout",
     "text": "End of my script\n"
    }
   ],
   "source": [
    "x = [1,2,3,4,5]\n",
    "for item in x:\n",
    "    pass\n",
    "print(\"End of my script\")"
   ]
  },
  {
   "cell_type": "code",
   "execution_count": 5,
   "metadata": {
    "tags": []
   },
   "outputs": [
    {
     "output_type": "stream",
     "name": "stdout",
     "text": "S\nI\nS\nH\nR\nI\nR\nM\n"
    }
   ],
   "source": [
    "mystring = \"SAISHRIRAM\"\n",
    "for letter in mystring:\n",
    "    if(letter == 'A'):\n",
    "        continue\n",
    "    print(letter)"
   ]
  },
  {
   "cell_type": "code",
   "execution_count": 6,
   "metadata": {
    "tags": []
   },
   "outputs": [
    {
     "output_type": "stream",
     "name": "stdout",
     "text": "S\n"
    }
   ],
   "source": [
    "# Breaks when the first \"A\" appears\n",
    "mystring = \"SAISHRIRAM\"\n",
    "for letter in mystring:\n",
    "    if(letter == 'A'):\n",
    "        break\n",
    "    print(letter)"
   ]
  }
 ]
}