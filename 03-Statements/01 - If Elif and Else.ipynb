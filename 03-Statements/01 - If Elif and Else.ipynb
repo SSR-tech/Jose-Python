{
 "metadata": {
  "language_info": {
   "codemirror_mode": {
    "name": "ipython",
    "version": 3
   },
   "file_extension": ".py",
   "mimetype": "text/x-python",
   "name": "python",
   "nbconvert_exporter": "python",
   "pygments_lexer": "ipython3",
   "version": 3
  },
  "orig_nbformat": 2,
  "kernelspec": {
   "name": "python_defaultSpec_1595951715927",
   "display_name": "Python 3.7.3 64-bit"
  }
 },
 "nbformat": 4,
 "nbformat_minor": 2,
 "cells": [
  {
   "cell_type": "markdown",
   "metadata": {},
   "source": [
    "# If Elif and Else Statements\n",
    "#### if some_condition:\n",
    "        execute some code\n",
    "    elif\n",
    "         execute some code\n",
    "    Else\n",
    "        execute this"
   ]
  },
  {
   "cell_type": "code",
   "execution_count": 5,
   "metadata": {
    "tags": []
   },
   "outputs": [
    {
     "output_type": "stream",
     "name": "stdout",
     "text": "True\n"
    }
   ],
   "source": [
    "if 2 > 3:\n",
    "    print(\"Hello\")\n",
    "else:\n",
    "    print(True)"
   ]
  },
  {
   "cell_type": "code",
   "execution_count": 6,
   "metadata": {
    "tags": []
   },
   "outputs": [
    {
     "output_type": "stream",
     "name": "stdout",
     "text": "Money is cool!\n"
    }
   ],
   "source": [
    "loc = 'bank'\n",
    "\n",
    "if loc == \"auto shop\":\n",
    "    print(\"Cars are cool!\")\n",
    "elif loc == 'bank':\n",
    "    print(\"Money is cool!\")\n",
    "else:\n",
    "    print(\"WoWWW!\")"
   ]
  }
 ]
}