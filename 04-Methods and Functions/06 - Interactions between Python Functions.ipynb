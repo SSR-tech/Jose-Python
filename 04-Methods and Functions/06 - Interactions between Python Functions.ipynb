{
 "metadata": {
  "language_info": {
   "codemirror_mode": {
    "name": "ipython",
    "version": 3
   },
   "file_extension": ".py",
   "mimetype": "text/x-python",
   "name": "python",
   "nbconvert_exporter": "python",
   "pygments_lexer": "ipython3",
   "version": "3.7.3-final"
  },
  "orig_nbformat": 2,
  "kernelspec": {
   "name": "python_defaultSpec_1597390704401",
   "display_name": "Python 3.7.3 64-bit"
  }
 },
 "nbformat": 4,
 "nbformat_minor": 2,
 "cells": [
  {
   "cell_type": "markdown",
   "metadata": {},
   "source": [
    "# Interactions between functions"
   ]
  },
  {
   "cell_type": "code",
   "execution_count": 6,
   "metadata": {},
   "outputs": [
    {
     "output_type": "execute_result",
     "data": {
      "text/plain": "[0, 1, 2, 3, 4, 5, 6, 7, 8, 9, 10]"
     },
     "metadata": {},
     "execution_count": 6
    }
   ],
   "source": [
    "example = [num for num in range(0,11,1)]\n",
    "example"
   ]
  },
  {
   "cell_type": "code",
   "execution_count": 7,
   "metadata": {},
   "outputs": [],
   "source": [
    "from random import shuffle"
   ]
  },
  {
   "cell_type": "code",
   "execution_count": 8,
   "metadata": {},
   "outputs": [],
   "source": [
    "shuffle(example)"
   ]
  },
  {
   "cell_type": "code",
   "execution_count": 9,
   "metadata": {},
   "outputs": [
    {
     "output_type": "execute_result",
     "data": {
      "text/plain": "[1, 4, 6, 9, 0, 3, 10, 2, 7, 5, 8]"
     },
     "metadata": {},
     "execution_count": 9
    }
   ],
   "source": [
    "example"
   ]
  },
  {
   "cell_type": "code",
   "execution_count": 10,
   "metadata": {},
   "outputs": [],
   "source": [
    "def shuffle_list(myList):\n",
    "    shuffle(myList)\n",
    "    return myList"
   ]
  },
  {
   "cell_type": "code",
   "execution_count": 11,
   "metadata": {},
   "outputs": [],
   "source": [
    "result = shuffle_list(example)"
   ]
  },
  {
   "cell_type": "code",
   "execution_count": 12,
   "metadata": {},
   "outputs": [
    {
     "output_type": "execute_result",
     "data": {
      "text/plain": "[0, 10, 6, 4, 9, 7, 8, 3, 2, 5, 1]"
     },
     "metadata": {},
     "execution_count": 12
    }
   ],
   "source": [
    "result"
   ]
  },
  {
   "cell_type": "code",
   "execution_count": 13,
   "metadata": {},
   "outputs": [],
   "source": [
    "myList = [\" \",\"O\",\" \"]"
   ]
  },
  {
   "cell_type": "code",
   "execution_count": 14,
   "metadata": {},
   "outputs": [
    {
     "output_type": "execute_result",
     "data": {
      "text/plain": "['O', ' ', ' ']"
     },
     "metadata": {},
     "execution_count": 14
    }
   ],
   "source": [
    "shuffle_list(myList)"
   ]
  },
  {
   "cell_type": "code",
   "execution_count": 19,
   "metadata": {},
   "outputs": [],
   "source": [
    "def player_guess():\n",
    "    guess=\" \"\n",
    "\n",
    "    # Entered as string --> Inputs are always entered as strings.\n",
    "    while guess not in ['0','1','2']:\n",
    "        guess = input(\"Pick a number: 0,1 and 2\")\n",
    "\n",
    "    # The input which is taken from the user is converted into integer and returned\n",
    "    return int(guess)"
   ]
  },
  {
   "cell_type": "code",
   "execution_count": 16,
   "metadata": {},
   "outputs": [
    {
     "output_type": "execute_result",
     "data": {
      "text/plain": "2"
     },
     "metadata": {},
     "execution_count": 16
    }
   ],
   "source": [
    "player_guess()"
   ]
  },
  {
   "cell_type": "code",
   "execution_count": 17,
   "metadata": {},
   "outputs": [],
   "source": [
    "def check_guess(myList,guess):\n",
    "    if myList[guess] == 'O':\n",
    "        print(\"Correct Guess!\")\n",
    "    else:\n",
    "        print(f\"Wrong Guess. Actually in {myList}\")"
   ]
  },
  {
   "cell_type": "code",
   "execution_count": 18,
   "metadata": {
    "tags": []
   },
   "outputs": [
    {
     "output_type": "stream",
     "name": "stdout",
     "text": "Correct Guess!\n"
    }
   ],
   "source": [
    "# Initial List\n",
    "myList = ['','O','']\n",
    "\n",
    "# Shuffle List\n",
    "mixedup_list = shuffle_list(myList)\n",
    "\n",
    "# User Guess\n",
    "guess = player_guess()\n",
    "\n",
    "# Check Guess\n",
    "check_guess(mixedup_list,guess)"
   ]
  },
  {
   "cell_type": "code",
   "execution_count": null,
   "metadata": {},
   "outputs": [],
   "source": []
  }
 ]
}