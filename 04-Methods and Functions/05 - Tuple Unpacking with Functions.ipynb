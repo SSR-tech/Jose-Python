{
 "metadata": {
  "language_info": {
   "codemirror_mode": {
    "name": "ipython",
    "version": 3
   },
   "file_extension": ".py",
   "mimetype": "text/x-python",
   "name": "python",
   "nbconvert_exporter": "python",
   "pygments_lexer": "ipython3",
   "version": "3.7.3-final"
  },
  "orig_nbformat": 2,
  "kernelspec": {
   "name": "python_defaultSpec_1597390086647",
   "display_name": "Python 3.7.3 64-bit"
  }
 },
 "nbformat": 4,
 "nbformat_minor": 2,
 "cells": [
  {
   "cell_type": "markdown",
   "metadata": {},
   "source": [
    "# Tuple unpacking with Functions"
   ]
  },
  {
   "cell_type": "code",
   "execution_count": 2,
   "metadata": {
    "tags": []
   },
   "outputs": [
    {
     "output_type": "stream",
     "name": "stdout",
     "text": "('apple', 20)\n('fb', 12)\n('MS', 1)\n"
    }
   ],
   "source": [
    "stock_prices = [(\"apple\",20),(\"fb\",12),(\"MS\",1)]\n",
    "for items in stock_prices:\n",
    "    print(items)"
   ]
  },
  {
   "cell_type": "code",
   "execution_count": 4,
   "metadata": {
    "tags": []
   },
   "outputs": [
    {
     "output_type": "stream",
     "name": "stdout",
     "text": "30.0\n18.0\n1.5\n"
    }
   ],
   "source": [
    "for ticker,price in stock_prices:\n",
    "    print(price+(0.5 * price))"
   ]
  },
  {
   "cell_type": "code",
   "execution_count": 5,
   "metadata": {},
   "outputs": [],
   "source": [
    "work_hours = [(\"Abby\",100),(\"Billy\",200),(\"Cassie\",10)]"
   ]
  },
  {
   "cell_type": "code",
   "execution_count": 6,
   "metadata": {},
   "outputs": [],
   "source": [
    "# Function to know which employee had work for long hours in the week.\n",
    "def long_work_hours(work_hours):\n",
    "    current_max = 0\n",
    "    employee_of_month = \"\"\n",
    "\n",
    "    for employee,hours in work_hours:\n",
    "        if(hours > current_max):\n",
    "            current_max = hours\n",
    "            employee_of_month = employee\n",
    "        else:\n",
    "            pass\n",
    "\n",
    "    # Return\n",
    "    print(f\"{employee_of_month.upper()} had worked for {current_max} hours this week, making a record!\")\n",
    "    # return (employee_of_month,hours)\n"
   ]
  },
  {
   "cell_type": "code",
   "execution_count": 7,
   "metadata": {
    "tags": []
   },
   "outputs": [
    {
     "output_type": "stream",
     "name": "stdout",
     "text": "BILLY had worked for 200 hours this week, making a record!\n"
    }
   ],
   "source": [
    "long_work_hours(work_hours)"
   ]
  }
 ]
}